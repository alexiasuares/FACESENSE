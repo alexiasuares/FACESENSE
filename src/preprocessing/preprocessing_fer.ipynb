{
 "cells": [
  {
   "cell_type": "code",
   "execution_count": 3,
   "id": "d0c0cfb5",
   "metadata": {},
   "outputs": [],
   "source": [
    "import os\n",
    "import numpy as np\n",
    "import pandas as pd \n",
    "import cv2\n",
    "from sklearn.model_selection import train_test_split\n"
   ]
  },
  {
   "cell_type": "code",
   "execution_count": 4,
   "id": "36038370",
   "metadata": {},
   "outputs": [],
   "source": [
    "DATA_DIR = \"../../data/FER/archive\"\n",
    "OUTPUT_DIR = \"../../data/FER/processed_data\"\n",
    "os.makedirs(OUTPUT_DIR, exist_ok=True)  "
   ]
  },
  {
   "cell_type": "code",
   "execution_count": 5,
   "id": "7d25bd9a",
   "metadata": {},
   "outputs": [],
   "source": [
    "IMG_SIZE = 48\n",
    "CLASSES = ['angry', 'disgust', 'fear', 'happy', 'neutral', 'sad', 'surprise']\n",
    "label_to_int = {cls: idx for idx, cls in enumerate(CLASSES)}\n"
   ]
  },
  {
   "cell_type": "code",
   "execution_count": 6,
   "id": "a945648b",
   "metadata": {},
   "outputs": [],
   "source": [
    "def load_images_from_folder(folder, label):\n",
    "    data, labels = [], []\n",
    "    for filename in os.listdir(folder):\n",
    "        path = os.path.join(folder, filename)\n",
    "        img = cv2.imread(path, cv2.IMREAD_GRAYSCALE)\n",
    "        if img is None:\n",
    "            continue\n",
    "        img = cv2.resize(img, (IMG_SIZE, IMG_SIZE))\n",
    "        data.append(img/255.0)  # Normalize pixel values\n",
    "        labels.append(label)\n",
    "    return data, labels\n"
   ]
  },
  {
   "cell_type": "code",
   "execution_count": 7,
   "id": "b521b865",
   "metadata": {},
   "outputs": [],
   "source": [
    "X_train, y_train = [], []\n",
    "for cls in CLASSES:\n",
    "    folder_path = os.path.join(DATA_DIR, 'train', cls)\n",
    "    data, labels = load_images_from_folder(folder_path, label_to_int[cls])\n",
    "    X_train.extend(data)\n",
    "    y_train.extend(labels)"
   ]
  },
  {
   "cell_type": "code",
   "execution_count": 8,
   "id": "c2d2d94d",
   "metadata": {},
   "outputs": [],
   "source": [
    "X_test, y_test = [], []\n",
    "for cls in CLASSES:\n",
    "    folder_path = os.path.join(DATA_DIR, 'test', cls)\n",
    "    data, labels = load_images_from_folder(folder_path, label_to_int[cls])\n",
    "    X_test.extend(data)\n",
    "    y_test.extend(labels)"
   ]
  },
  {
   "cell_type": "code",
   "execution_count": 9,
   "id": "b8547c76",
   "metadata": {},
   "outputs": [],
   "source": [
    "X_train, y_train = np.array(X_train), np.array(y_train)\n",
    "X_test, y_test = np.array(X_test), np.array(y_test)"
   ]
  },
  {
   "cell_type": "code",
   "execution_count": 10,
   "id": "b9b1fb7c",
   "metadata": {},
   "outputs": [],
   "source": [
    "X_train = X_train.reshape(-1, IMG_SIZE, IMG_SIZE, 1)\n",
    "X_test = X_test.reshape(-1, IMG_SIZE, IMG_SIZE, 1)"
   ]
  },
  {
   "cell_type": "code",
   "execution_count": 11,
   "id": "12d9cae2",
   "metadata": {},
   "outputs": [
    {
     "name": "stdout",
     "output_type": "stream",
     "text": [
      "X_train: (25838, 48, 48, 1), y_train: (25838,)\n",
      "X_val:   (2871, 48, 48, 1), y_val:   (2871,)\n",
      "X_test:  (7178, 48, 48, 1), y_test: (7178,)\n"
     ]
    }
   ],
   "source": [
    "X_train, X_val, y_train, y_val = train_test_split(X_train, y_train, test_size=0.1, random_state=42)\n",
    "print(f\"X_train: {X_train.shape}, y_train: {y_train.shape}\")\n",
    "print(f\"X_val:   {X_val.shape}, y_val:   {y_val.shape}\")\n",
    "print(f\"X_test:  {X_test.shape}, y_test: {y_test.shape}\")\n"
   ]
  },
  {
   "cell_type": "code",
   "execution_count": 12,
   "id": "7d918c2b",
   "metadata": {},
   "outputs": [
    {
     "name": "stdout",
     "output_type": "stream",
     "text": [
      "✅ FER pré-processado e salvo em ../../data/FER/processed_data\n"
     ]
    }
   ],
   "source": [
    "np.save(os.path.join(OUTPUT_DIR, \"X_train.npy\"), X_train)\n",
    "np.save(os.path.join(OUTPUT_DIR, \"y_train.npy\"), y_train)\n",
    "np.save(os.path.join(OUTPUT_DIR, \"X_val.npy\"), X_val)\n",
    "np.save(os.path.join(OUTPUT_DIR, \"y_val.npy\"), y_val)\n",
    "np.save(os.path.join(OUTPUT_DIR, \"X_test.npy\"), X_test)\n",
    "np.save(os.path.join(OUTPUT_DIR, \"y_test.npy\"), y_test)\n",
    "\n",
    "print(\"✅ FER pré-processado e salvo em\", OUTPUT_DIR)"
   ]
  }
 ],
 "metadata": {
  "kernelspec": {
   "display_name": ".venv (3.9.9)",
   "language": "python",
   "name": "python3"
  },
  "language_info": {
   "codemirror_mode": {
    "name": "ipython",
    "version": 3
   },
   "file_extension": ".py",
   "mimetype": "text/x-python",
   "name": "python",
   "nbconvert_exporter": "python",
   "pygments_lexer": "ipython3",
   "version": "3.9.9"
  }
 },
 "nbformat": 4,
 "nbformat_minor": 5
}
